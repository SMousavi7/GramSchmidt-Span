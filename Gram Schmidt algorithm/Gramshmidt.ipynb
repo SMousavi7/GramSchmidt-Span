{
 "cells": [
  {
   "cell_type": "code",
   "execution_count": 10,
   "metadata": {},
   "outputs": [
    {
     "name": "stdout",
     "output_type": "stream",
     "text": [
      "3\n",
      "3\n",
      "[[1. 0. 0.]\n",
      " [0. 1. 0.]\n",
      " [0. 0. 1.]]\n"
     ]
    }
   ],
   "source": [
    "#first way to solve\n",
    "\n",
    "import numpy as np\n",
    "\n",
    "def Gram_schmidt(arr):\n",
    "    return_matrix = np.zeros_like(arr)\n",
    "    for i in range(len(arr)):\n",
    "        return_matrix[i] = arr[i]\n",
    "        for j in range(i):\n",
    "                return_matrix[i] = return_matrix[i] - (np.dot(arr[i], return_matrix[j]) / np.dot(return_matrix[j], return_matrix[j])) * return_matrix[j]\n",
    "        distance = np.linalg.norm(return_matrix[i])\n",
    "    return return_matrix\n",
    "\n",
    "n = int(input())\n",
    "m = int(input())\n",
    "arr = np.array([])\n",
    "\n",
    "for i in range(0, m):\n",
    "    x = list(map(float, input().split()))\n",
    "    if i == 0:\n",
    "        arr = np.array(x)\n",
    "    else:\n",
    "        arr = np.vstack((arr, x))\n",
    "new_vector = list(map(float, input().split()))\n",
    "check = np.vstack((arr, new_vector))\n",
    "\n",
    "augmented_matrix_rank = np.linalg.matrix_rank(check)\n",
    "coefficients_matrix_rank = np.linalg.matrix_rank(arr)\n",
    "print(augmented_matrix_rank)\n",
    "print(coefficients_matrix_rank)\n",
    "if(augmented_matrix_rank == coefficients_matrix_rank and coefficients_matrix_rank == m):\n",
    "    print(Gram_schmidt(arr))\n",
    "else:\n",
    "    print(Gram_schmidt(np.vstack((arr, new_vector))))"
   ]
  },
  {
   "cell_type": "code",
   "execution_count": 11,
   "metadata": {},
   "outputs": [
    {
     "name": "stdout",
     "output_type": "stream",
     "text": [
      "[[1. 0. 0.]\n",
      " [0. 1. 0.]\n",
      " [0. 0. 1.]]\n"
     ]
    }
   ],
   "source": [
    "#second way to solve\n",
    "\n",
    "import numpy as np\n",
    "\n",
    "def Gram_schmidt(arr):\n",
    "    return_matrix = np.zeros_like(arr)\n",
    "    for i in range(len(arr)):\n",
    "        return_matrix[i] = arr[i]\n",
    "        for j in range(i):\n",
    "                return_matrix[i] = return_matrix[i] - (np.dot(arr[i], return_matrix[j]) / np.dot(return_matrix[j], return_matrix[j])) * return_matrix[j]\n",
    "        distance = np.linalg.norm(return_matrix[i])\n",
    "        return_matrix[i] /= distance\n",
    "    return return_matrix\n",
    "def in_subspace(arr, given_vector):\n",
    "    check = Gram_schmidt(arr)\n",
    "    coefficients = np.dot(new_vector, check.T)\n",
    "    return np.allclose(np.dot(coefficients, check), new_vector)\n",
    "\n",
    "n = int(input())\n",
    "m = int(input())\n",
    "arr = np.array([])\n",
    "\n",
    "for i in range(0, m):\n",
    "    x = list(map(float, input().split()))\n",
    "    if i == 0:\n",
    "        arr = np.array(x)\n",
    "    else:\n",
    "        arr = np.vstack((arr, x))\n",
    "new_vector = list(map(float, input().split()))\n",
    "check = np.vstack((arr, new_vector))\n",
    "\n",
    "\n",
    "if(in_subspace(arr, new_vector)):\n",
    "    print(Gram_schmidt(arr))\n",
    "else:\n",
    "    print(Gram_schmidt(np.vstack((arr, new_vector))))"
   ]
  }
 ],
 "metadata": {
  "kernelspec": {
   "display_name": "Python 3",
   "language": "python",
   "name": "python3"
  },
  "language_info": {
   "codemirror_mode": {
    "name": "ipython",
    "version": 3
   },
   "file_extension": ".py",
   "mimetype": "text/x-python",
   "name": "python",
   "nbconvert_exporter": "python",
   "pygments_lexer": "ipython3",
   "version": "3.12.6"
  },
  "orig_nbformat": 4
 },
 "nbformat": 4,
 "nbformat_minor": 2
}
